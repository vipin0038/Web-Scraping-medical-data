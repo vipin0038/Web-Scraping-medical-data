{
 "cells": [
  {
   "cell_type": "code",
   "execution_count": 42,
   "id": "c10800de-4c74-4e80-a9f2-e8121bc74f04",
   "metadata": {},
   "outputs": [],
   "source": [
    "from selenium import webdriver\n",
    "from selenium.webdriver.common.by import By\n",
    "from selenium.webdriver.support.ui import WebDriverWait\n",
    "from selenium.webdriver.support import expected_conditions as EC\n",
    "import pandas as pd\n",
    "import time"
   ]
  },
  {
   "cell_type": "code",
   "execution_count": 30,
   "id": "6bc32b82-3813-40b3-972f-cc09d7d38fcb",
   "metadata": {},
   "outputs": [],
   "source": [
    "executable_path = r\"C:\\Users\\vipin\\Desktop\\chromedriver-win64\\chromedriver.exe\"\n",
    "service = webdriver.ChromeService(executable_path = executable_path)"
   ]
  },
  {
   "cell_type": "code",
   "execution_count": null,
   "id": "4bb6f8f0-94d9-4c84-b572-0a11c3edab52",
   "metadata": {},
   "outputs": [],
   "source": []
  },
  {
   "cell_type": "code",
   "execution_count": null,
   "id": "aa579314-9413-40b9-a1dc-ccd0eedbfaa7",
   "metadata": {},
   "outputs": [],
   "source": []
  },
  {
   "cell_type": "code",
   "execution_count": 50,
   "id": "7fe73624-4583-4163-8444-df7d68db3e53",
   "metadata": {},
   "outputs": [
    {
     "data": {
      "text/html": [
       "<div>\n",
       "<style scoped>\n",
       "    .dataframe tbody tr th:only-of-type {\n",
       "        vertical-align: middle;\n",
       "    }\n",
       "\n",
       "    .dataframe tbody tr th {\n",
       "        vertical-align: top;\n",
       "    }\n",
       "\n",
       "    .dataframe thead th {\n",
       "        text-align: right;\n",
       "    }\n",
       "</style>\n",
       "<table border=\"1\" class=\"dataframe\">\n",
       "  <thead>\n",
       "    <tr style=\"text-align: right;\">\n",
       "      <th></th>\n",
       "      <th>symptomes</th>\n",
       "      <th>illness</th>\n",
       "    </tr>\n",
       "  </thead>\n",
       "  <tbody>\n",
       "    <tr>\n",
       "      <th>0</th>\n",
       "      <td>Pain is sudden (acute)</td>\n",
       "      <td>Appendicitis</td>\n",
       "    </tr>\n",
       "    <tr>\n",
       "      <th>1</th>\n",
       "      <td>Pain is crampy</td>\n",
       "      <td>Appendicitis</td>\n",
       "    </tr>\n",
       "    <tr>\n",
       "      <th>2</th>\n",
       "      <td>Pain is dull</td>\n",
       "      <td>Appendicitis</td>\n",
       "    </tr>\n",
       "    <tr>\n",
       "      <th>3</th>\n",
       "      <td>Pain is intense</td>\n",
       "      <td>Appendicitis</td>\n",
       "    </tr>\n",
       "    <tr>\n",
       "      <th>4</th>\n",
       "      <td>Pain is sharp</td>\n",
       "      <td>Appendicitis</td>\n",
       "    </tr>\n",
       "  </tbody>\n",
       "</table>\n",
       "</div>"
      ],
      "text/plain": [
       "                symptomes       illness\n",
       "0  Pain is sudden (acute)  Appendicitis\n",
       "1          Pain is crampy  Appendicitis\n",
       "2            Pain is dull  Appendicitis\n",
       "3         Pain is intense  Appendicitis\n",
       "4           Pain is sharp  Appendicitis"
      ]
     },
     "execution_count": 50,
     "metadata": {},
     "output_type": "execute_result"
    }
   ],
   "source": [
    "driver = webdriver.Chrome(service = service)\n",
    "\n",
    "url = \"https://www.mayoclinic.org/symptom-checker/abdominal-pain-in-adults-adult/related-factors/itt-20009075\"\n",
    "\n",
    "driver.get(url)\n",
    "\n",
    "driver.maximize_window()\n",
    "\n",
    "agree_btn = driver.find_element(By.ID,\"mayo-privacy-opt-in\")\n",
    "agree_btn.click()\n",
    "\n",
    "WebDriverWait(driver, 10).until(EC.presence_of_element_located((By.TAG_NAME, \"li\")))\n",
    "\n",
    "clas = driver.find_elements(By.CLASS_NAME,\"frm_options\")\n",
    "\n",
    "for i in clas :\n",
    "   ul = i.find_elements(By.TAG_NAME,\"ul\")\n",
    "   for j in ul :\n",
    "        li = j.find_elements(By.TAG_NAME,\"li\")\n",
    "        for k in li :\n",
    "            inp = k.find_element(By.TAG_NAME,'input')\n",
    "            if not inp.is_selected() :\n",
    "                inp.click()          \n",
    "\n",
    "rows = []\n",
    "ck = driver.find_element(By.ID,\"FindCause\")\n",
    "ck.click()\n",
    "for k in range(26) :\n",
    "    kj = driver.find_element(By.ID,f\"main_0_maincontent_1_RepeaterCause_causeDiv_{k}\")\n",
    "    illness = kj.find_element(By.TAG_NAME,'h3').text\n",
    "    li = kj.find_elements(By.TAG_NAME,'li')\n",
    "    for i in li :\n",
    "      #  print(i)\n",
    "        symptomes = i.get_attribute(\"textContent\")\n",
    "        rows.append({\"symptomes\": symptomes,\"illness\": illness})\n",
    "\n",
    "df = pd.DataFrame(rows)     \n",
    "\n",
    "driver.close()\n",
    "\n",
    "df.head(5)\n"
   ]
  },
  {
   "cell_type": "code",
   "execution_count": null,
   "id": "3407821b-0c4a-422c-a33b-9f3a9c6991aa",
   "metadata": {},
   "outputs": [],
   "source": []
  },
  {
   "cell_type": "code",
   "execution_count": null,
   "id": "7055c67b-cef7-49ad-b1c7-ac8aee156562",
   "metadata": {},
   "outputs": [],
   "source": []
  }
 ],
 "metadata": {
  "kernelspec": {
   "display_name": "Python 3 (ipykernel)",
   "language": "python",
   "name": "python3"
  },
  "language_info": {
   "codemirror_mode": {
    "name": "ipython",
    "version": 3
   },
   "file_extension": ".py",
   "mimetype": "text/x-python",
   "name": "python",
   "nbconvert_exporter": "python",
   "pygments_lexer": "ipython3",
   "version": "3.12.9"
  }
 },
 "nbformat": 4,
 "nbformat_minor": 5
}
